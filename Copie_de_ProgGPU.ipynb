{
  "nbformat": 4,
  "nbformat_minor": 0,
  "metadata": {
    "colab": {
      "provenance": [],
      "include_colab_link": true
    },
    "kernelspec": {
      "name": "python3",
      "display_name": "Python 3"
    },
    "language_info": {
      "name": "python"
    },
    "accelerator": "GPU",
    "gpuClass": "standard"
  },
  "cells": [
    {
      "cell_type": "markdown",
      "metadata": {
        "id": "view-in-github",
        "colab_type": "text"
      },
      "source": [
        "<a href=\"https://colab.research.google.com/github/LoganToullec/ProgGPU/blob/main/Copie_de_ProgGPU.ipynb\" target=\"_parent\"><img src=\"https://colab.research.google.com/assets/colab-badge.svg\" alt=\"Open In Colab\"/></a>"
      ]
    },
    {
      "cell_type": "markdown",
      "source": [
        "# This notebook\n",
        "This notebook is a starting point to setup for CUDA code.\n",
        "If you want to save your codes, you will have to create a copy of this notebook, and then work on this copy"
      ],
      "metadata": {
        "id": "RlYG9sS24wSW"
      }
    },
    {
      "cell_type": "code",
      "execution_count": null,
      "metadata": {
        "colab": {
          "base_uri": "https://localhost:8080/"
        },
        "id": "Vjov-qc1v32O",
        "outputId": "d0a37ded-f994-44dd-d7de-9e199a96d1fa"
      },
      "outputs": [
        {
          "output_type": "stream",
          "name": "stdout",
          "text": [
            "nvcc: NVIDIA (R) Cuda compiler driver\n",
            "Copyright (c) 2005-2023 NVIDIA Corporation\n",
            "Built on Tue_Aug_15_22:02:13_PDT_2023\n",
            "Cuda compilation tools, release 12.2, V12.2.140\n",
            "Build cuda_12.2.r12.2/compiler.33191640_0\n"
          ]
        }
      ],
      "source": [
        "!nvcc --version"
      ]
    },
    {
      "cell_type": "markdown",
      "source": [
        "# Prepare your notebook to handle CUDA code"
      ],
      "metadata": {
        "id": "8v3Gndg2w-kK"
      }
    },
    {
      "cell_type": "code",
      "source": [
        "!pip install git+https://github.com/andreinechaev/nvcc4jupyter.git\n",
        "%load_ext nvcc4jupyter"
      ],
      "metadata": {
        "colab": {
          "base_uri": "https://localhost:8080/"
        },
        "id": "gNTbL4fywF2i",
        "outputId": "675c619d-49fe-4a71-db4c-ffa868cac901"
      },
      "execution_count": null,
      "outputs": [
        {
          "output_type": "stream",
          "name": "stdout",
          "text": [
            "Collecting git+https://github.com/andreinechaev/nvcc4jupyter.git\n",
            "  Cloning https://github.com/andreinechaev/nvcc4jupyter.git to /tmp/pip-req-build-h0v9wx7z\n",
            "  Running command git clone --filter=blob:none --quiet https://github.com/andreinechaev/nvcc4jupyter.git /tmp/pip-req-build-h0v9wx7z\n",
            "  Resolved https://github.com/andreinechaev/nvcc4jupyter.git to commit 781ff5b76ba6c4c2d80dcbbec9983e147613cc71\n",
            "  Installing build dependencies ... \u001b[?25l\u001b[?25hdone\n",
            "  Getting requirements to build wheel ... \u001b[?25l\u001b[?25hdone\n",
            "  Preparing metadata (pyproject.toml) ... \u001b[?25l\u001b[?25hdone\n",
            "Building wheels for collected packages: nvcc4jupyter\n",
            "  Building wheel for nvcc4jupyter (pyproject.toml) ... \u001b[?25l\u001b[?25hdone\n",
            "  Created wheel for nvcc4jupyter: filename=nvcc4jupyter-1.1.0-py3-none-any.whl size=8011 sha256=e2b2acbb79d726227ace2ffdeb18b901e4debb9cf9419b13a35a389a655ee4ac\n",
            "  Stored in directory: /tmp/pip-ephem-wheel-cache-nz384yph/wheels/a8/b9/18/23f8ef71ceb0f63297dd1903aedd067e6243a68ea756d6feea\n",
            "Successfully built nvcc4jupyter\n",
            "Installing collected packages: nvcc4jupyter\n",
            "Successfully installed nvcc4jupyter-1.1.0\n",
            "Source files will be saved in \"/tmp/tmpzboh6w5t\".\n"
          ]
        }
      ]
    },
    {
      "cell_type": "markdown",
      "source": [
        "# Install & Use of CCfits for TD 2\n"
      ],
      "metadata": {
        "id": "oekYOe5182hT"
      }
    },
    {
      "cell_type": "code",
      "source": [
        "!apt-get install libccfits-dev"
      ],
      "metadata": {
        "id": "6VkGKojyRv-V",
        "colab": {
          "base_uri": "https://localhost:8080/"
        },
        "outputId": "2d080cc2-b2e0-4a00-e262-bde7e7159537"
      },
      "execution_count": null,
      "outputs": [
        {
          "output_type": "stream",
          "name": "stdout",
          "text": [
            "Reading package lists... Done\n",
            "Building dependency tree... Done\n",
            "Reading state information... Done\n",
            "The following additional packages will be installed:\n",
            "  libccfits0v5\n",
            "Suggested packages:\n",
            "  libccfits-doc\n",
            "The following NEW packages will be installed:\n",
            "  libccfits-dev libccfits0v5\n",
            "0 upgraded, 2 newly installed, 0 to remove and 38 not upgraded.\n",
            "Need to get 501 kB of archives.\n",
            "After this operation, 3,105 kB of additional disk space will be used.\n",
            "Get:1 http://archive.ubuntu.com/ubuntu jammy/universe amd64 libccfits0v5 amd64 2.6+dfsg-1 [195 kB]\n",
            "Get:2 http://archive.ubuntu.com/ubuntu jammy/universe amd64 libccfits-dev amd64 2.6+dfsg-1 [306 kB]\n",
            "Fetched 501 kB in 0s (1,111 kB/s)\n",
            "Selecting previously unselected package libccfits0v5:amd64.\n",
            "(Reading database ... 121752 files and directories currently installed.)\n",
            "Preparing to unpack .../libccfits0v5_2.6+dfsg-1_amd64.deb ...\n",
            "Unpacking libccfits0v5:amd64 (2.6+dfsg-1) ...\n",
            "Selecting previously unselected package libccfits-dev:amd64.\n",
            "Preparing to unpack .../libccfits-dev_2.6+dfsg-1_amd64.deb ...\n",
            "Unpacking libccfits-dev:amd64 (2.6+dfsg-1) ...\n",
            "Setting up libccfits0v5:amd64 (2.6+dfsg-1) ...\n",
            "Setting up libccfits-dev:amd64 (2.6+dfsg-1) ...\n",
            "Processing triggers for libc-bin (2.35-0ubuntu3.4) ...\n",
            "/sbin/ldconfig.real: /usr/local/lib/libtbb.so.12 is not a symbolic link\n",
            "\n",
            "/sbin/ldconfig.real: /usr/local/lib/libtbbbind_2_0.so.3 is not a symbolic link\n",
            "\n",
            "/sbin/ldconfig.real: /usr/local/lib/libtbbmalloc.so.2 is not a symbolic link\n",
            "\n",
            "/sbin/ldconfig.real: /usr/local/lib/libtbbbind.so.3 is not a symbolic link\n",
            "\n",
            "/sbin/ldconfig.real: /usr/local/lib/libtbbbind_2_5.so.3 is not a symbolic link\n",
            "\n",
            "/sbin/ldconfig.real: /usr/local/lib/libtbbmalloc_proxy.so.2 is not a symbolic link\n",
            "\n"
          ]
        }
      ]
    },
    {
      "cell_type": "code",
      "source": [
        "import astropy.io.fits as pf\n",
        "import numpy as np\n",
        "\n",
        "A = np.random.random((10,10))\n",
        "pf.writeto(\"test.fits\", A, overwrite=True)"
      ],
      "metadata": {
        "id": "SKuozthTSVFI"
      },
      "execution_count": null,
      "outputs": []
    },
    {
      "cell_type": "code",
      "source": [
        "%%writefile test2.cu\n",
        "#include <stdio.h>\n",
        "#include <CCfits>\n",
        "\n",
        "int main(void) {\n",
        "    CCfits::FITS inFile(\"test.fits\", CCfits::Read, true);\n",
        "    CCfits::PHDU &phdu = inFile.pHDU();\n",
        "    std::valarray<float> fitsImage;\n",
        "    phdu.read(fitsImage);\n",
        "    std::cout << fitsImage[1] << std::endl;\n",
        "    std::cout << fitsImage.size() << std::endl;\n",
        "    long naxes[2] = {10,10};\n",
        "    CCfits::FITS *inFile2 = new CCfits::FITS(\"test2.fits\", FLOAT_IMG, 2, naxes);\n",
        "    CCfits::PHDU &phdu2 = inFile2->pHDU();\n",
        "    phdu2.write(1, 99, fitsImage);\n",
        "}\n"
      ],
      "metadata": {
        "colab": {
          "base_uri": "https://localhost:8080/"
        },
        "id": "NX1ZwMTISjdj",
        "outputId": "e5680fb9-2385-435b-e4e1-5dcdb65255c5"
      },
      "execution_count": null,
      "outputs": [
        {
          "output_type": "stream",
          "name": "stdout",
          "text": [
            "Writing test2.cu\n"
          ]
        }
      ]
    },
    {
      "cell_type": "code",
      "source": [
        "!nvcc test2.cu -o test2 -I/usr/include/CCfits -L/usr/lib/x86_64-linux-gnu/ -std=c++11 -lCCfits -lcfitsio"
      ],
      "metadata": {
        "id": "wO4z7tNwWFjl"
      },
      "execution_count": null,
      "outputs": []
    },
    {
      "cell_type": "code",
      "source": [
        "!./test2"
      ],
      "metadata": {
        "id": "kX60D4H0WjhB",
        "colab": {
          "base_uri": "https://localhost:8080/"
        },
        "outputId": "59698f60-5ad0-4289-f725-4471de407f62"
      },
      "execution_count": null,
      "outputs": [
        {
          "output_type": "stream",
          "name": "stdout",
          "text": [
            "0.43347\n",
            "100\n"
          ]
        }
      ]
    },
    {
      "cell_type": "code",
      "source": [
        "import astropy.io.fits as pf\n",
        "import numpy as np\n",
        "A = pf.getdata(\"test2.fits\")\n",
        "B = pf.getdata(\"test.fits\")"
      ],
      "metadata": {
        "id": "ObtW99n-flSt"
      },
      "execution_count": null,
      "outputs": []
    },
    {
      "cell_type": "code",
      "source": [
        "!conda install -c anaconda libpng"
      ],
      "metadata": {
        "id": "HEtvB1bkkWn_",
        "outputId": "2493e40b-c005-45ea-ac5d-016c4cc268a9",
        "colab": {
          "base_uri": "https://localhost:8080/"
        }
      },
      "execution_count": null,
      "outputs": [
        {
          "output_type": "stream",
          "name": "stdout",
          "text": [
            "/bin/bash: line 1: conda: command not found\n"
          ]
        }
      ]
    },
    {
      "cell_type": "markdown",
      "source": [
        "# Code with cuda"
      ],
      "metadata": {
        "id": "vdZBR7NSxMLF"
      }
    },
    {
      "cell_type": "code",
      "source": [
        "%%cuda\n",
        "#include <iostream>\n",
        "#include <fstream>\n",
        "#include <cstdint>\n",
        "#include <cmath>\n",
        "#include <complex>\n",
        "#include <cuda_runtime.h>\n",
        "\n",
        "// Définir les dimensions de l'image pour chaque fractale\n",
        "const int WIDTH = 30000;\n",
        "const int HEIGHT = 30000;\n",
        "\n",
        "// Définir les régions des ensembles de fractales\n",
        "const double M_MIN_X = -2.0;\n",
        "const double M_MAX_X = 1.0;\n",
        "const double M_MIN_Y = -1.5;\n",
        "const double M_MAX_Y = 1.5;\n",
        "\n",
        "const double J_MIN_X = -1.5;\n",
        "const double J_MAX_X = 1.5;\n",
        "const double J_MIN_Y = -1.5;\n",
        "const double J_MAX_Y = 1.5;\n",
        "const std::complex<double> C(-0.8, 0.156); // Paramètre de Julia\n",
        "\n",
        "const double BS_MIN_X = -2.0;\n",
        "const double BS_MAX_X = 1.0;\n",
        "const double BS_MIN_Y = -2.0;\n",
        "const double BS_MAX_Y = 2.0;\n",
        "\n",
        "const double N_MIN_X = -1.0;\n",
        "const double N_MAX_X = 1.0;\n",
        "const double N_MIN_Y = -1.0;\n",
        "const double N_MAX_Y = 1.0;\n",
        "\n",
        "const double MB_MIN_X = -2.0;\n",
        "const double MB_MAX_X = 2.0;\n",
        "const double MB_MIN_Y = -2.0;\n",
        "const double MB_MAX_Y = 2.0;\n",
        "const int MB_POWER = 4; // Puissance pour le Multibrot\n",
        "\n",
        "const double T_MIN_X = -2.0;\n",
        "const double T_MAX_X = 2.0;\n",
        "const double T_MIN_Y = -2.0;\n",
        "const double T_MAX_Y = 2.0;\n",
        "\n",
        "// Fonction CUDA pour évaluer l'ensemble de Mandelbrot\n",
        "__device__ int mandelbrot(double cx, double cy, int max_iterations) {\n",
        "    double x = 0.0, y = 0.0;\n",
        "    for (int i = 0; i < max_iterations; ++i) {\n",
        "        double temp = x * x - y * y + cx;\n",
        "        y = 2.0 * x * y + cy;\n",
        "        x = temp;\n",
        "        if (x * x + y * y > 4.0) return i;\n",
        "    }\n",
        "    return max_iterations;\n",
        "}\n",
        "\n",
        "// Fonction CUDA pour évaluer l'ensemble de Julia\n",
        "__device__ int julia(double x, double y, int max_iterations) {\n",
        "    for (int i = 0; i < max_iterations; ++i) {\n",
        "        double temp = x * x - y * y + -0.8;\n",
        "        y = 2.0 * x * y + 0.156;\n",
        "        x = temp;\n",
        "        if (x * x + y * y > 4.0) return i;\n",
        "    }\n",
        "    return max_iterations;\n",
        "}\n",
        "\n",
        "// Fonction CUDA pour évaluer l'ensemble de Burning Ship\n",
        "__device__ int burningShip(double cx, double cy, int max_iterations) {\n",
        "    double x = 0.0, y = 0.0;\n",
        "    for (int i = 0; i < max_iterations; ++i) {\n",
        "        double temp = x * x - y * y + cx;\n",
        "        y = fabs(2.0 * x * y) + cy;\n",
        "        x = temp;\n",
        "        if (x * x + y * y > 4.0) return i;\n",
        "    }\n",
        "    return max_iterations;\n",
        "}\n",
        "\n",
        "// Fonction CUDA pour évaluer l'ensemble de Newton\n",
        "__device__ int newton(double x, double y, int max_iterations) {\n",
        "    for (int i = 0; i < max_iterations; ++i) {\n",
        "        double temp = x * x * x - 3.0 * x * y * y - 1.0;\n",
        "        double temp_y = 3.0 * x * x * y - y * y * y;\n",
        "        x = x - (x * temp - y * temp_y) / (3.0 * (x * x - y * y));\n",
        "        y = y - (y * temp + x * temp_y) / (3.0 * (x * x - y * y));\n",
        "        if (x * x + y * y < 1e-6) return i;\n",
        "    }\n",
        "    return max_iterations;\n",
        "}\n",
        "\n",
        "// Fonction CUDA pour évaluer l'ensemble de Multibrot\n",
        "__device__ int multibrot(double cx, double cy, int max_iterations, int power) {\n",
        "    double x = 0.0, y = 0.0;\n",
        "    for (int i = 0; i < max_iterations; ++i) {\n",
        "        double temp = pow(x * x + y * y, power / 2.0) * cos(power * atan2(y, x)) + cx;\n",
        "        y = pow(x * x + y * y, power / 2.0) * sin(power * atan2(y, x)) + cy;\n",
        "        x = temp;\n",
        "        if (x * x + y * y > 4.0) return i;\n",
        "    }\n",
        "    return max_iterations;\n",
        "}\n",
        "\n",
        "// Fonction CUDA pour évaluer l'ensemble de Tricorn\n",
        "__device__ int tricorn(double cx, double cy, int max_iterations) {\n",
        "    double x = 0.0, y = 0.0;\n",
        "    for (int i = 0; i < max_iterations; ++i) {\n",
        "        double temp = x * x - y * y + cx;\n",
        "        y = -2.0 * x * y + cy;\n",
        "        x = temp;\n",
        "        if (x * x + y * y > 4.0) return i;\n",
        "    }\n",
        "    return max_iterations;\n",
        "}\n",
        "\n",
        "// Kernel CUDA pour générer une fractale\n",
        "__global__ void generateFractalCUDA(uint8_t* d_image, double min_x, double max_x, double min_y, double max_y, int max_iterations, int fractalType, int power) {\n",
        "    int x = blockIdx.x * blockDim.x + threadIdx.x;\n",
        "    int y = blockIdx.y * blockDim.y + threadIdx.y;\n",
        "    if (x < WIDTH && y < HEIGHT) {\n",
        "        double cx = min_x + (max_x - min_x) * x / WIDTH;\n",
        "        double cy = min_y + (max_y - min_y) * y / HEIGHT;\n",
        "        int index = y * WIDTH + x;\n",
        "        switch (fractalType) {\n",
        "            case 0:\n",
        "                d_image[index] = mandelbrot(cx, cy, max_iterations);\n",
        "                break;\n",
        "            case 1:\n",
        "                d_image[index] = julia(cx, cy, max_iterations);\n",
        "                break;\n",
        "            case 2:\n",
        "                d_image[index] = burningShip(cx, cy, max_iterations);\n",
        "                break;\n",
        "            case 3:\n",
        "                d_image[index] = newton(cx, cy, max_iterations);\n",
        "                break;\n",
        "            case 4:\n",
        "                d_image[index] = multibrot(cx, cy, max_iterations, power);\n",
        "                break;\n",
        "            case 5:\n",
        "                d_image[index] = tricorn(cx, cy, max_iterations);\n",
        "                break;\n",
        "        }\n",
        "        // Coloration unicolor avec variations d'opacité\n",
        "        double opacity = 1.0 - static_cast<double>(d_image[index]) / max_iterations;\n",
        "        uint8_t color = 255; // Couleur unie blanche\n",
        "        d_image[index] = static_cast<uint8_t>(color * opacity);\n",
        "    }\n",
        "}\n",
        "\n",
        "// Fonction pour générer et enregistrer une image de fractale\n",
        "void generateFractal(const char* filename, double min_x, double max_x, double min_y, double max_y, int max_iterations, int fractalType, int power) {\n",
        "    uint8_t* h_image = new uint8_t[WIDTH * HEIGHT];\n",
        "    uint8_t* d_image;\n",
        "    cudaMalloc(&d_image, WIDTH * HEIGHT * sizeof(uint8_t));\n",
        "\n",
        "    dim3 blockSize(16, 16); // Taille du bloc CUDA\n",
        "    dim3 gridSize((WIDTH + blockSize.x - 1) / blockSize.x, (HEIGHT + blockSize.y - 1) / blockSize.y);\n",
        "\n",
        "    generateFractalCUDA<<<gridSize, blockSize>>>(d_image, min_x, max_x, min_y, max_y, max_iterations, fractalType, power);\n",
        "\n",
        "    cudaMemcpy(h_image, d_image, WIDTH * HEIGHT * sizeof(uint8_t), cudaMemcpyDeviceToHost);\n",
        "\n",
        "    std::ofstream outfile(filename, std::ios::binary);\n",
        "    outfile << \"BM\";\n",
        "    int fileSize = WIDTH * HEIGHT * 3 + 54; // Taille totale du fichier BMP\n",
        "    int paddingSize = (4 - (WIDTH * 3) % 4) % 4; // Calcul de la taille du padding\n",
        "    int dataSize = (WIDTH * 3 + paddingSize) * HEIGHT; // Taille des données de l'image\n",
        "    int totalSize = fileSize + dataSize; // Taille totale du fichier\n",
        "    outfile.write(reinterpret_cast<char*>(&totalSize), sizeof(int));\n",
        "    int reserved = 0;\n",
        "    outfile.write(reinterpret_cast<char*>(&reserved), sizeof(int));\n",
        "    int offset = 54;\n",
        "    outfile.write(reinterpret_cast<char*>(&offset), sizeof(int));\n",
        "    int headerSize = 40;\n",
        "    outfile.write(reinterpret_cast<char*>(&headerSize), sizeof(int));\n",
        "    int width = WIDTH;\n",
        "    outfile.write(reinterpret_cast<char*>(&width), sizeof(int));\n",
        "    int height = HEIGHT;\n",
        "    outfile.write(reinterpret_cast<char*>(&height), sizeof(int));\n",
        "    short planes = 1;\n",
        "    outfile.write(reinterpret_cast<char*>(&planes), sizeof(short));\n",
        "    short bpp = 24;\n",
        "    outfile.write(reinterpret_cast<char*>(&bpp), sizeof(short));\n",
        "    int compression = 0;\n",
        "    outfile.write(reinterpret_cast<char*>(&compression), sizeof(int));\n",
        "    outfile.write(reinterpret_cast<char*>(&dataSize), sizeof(int));\n",
        "    int resolutionX = 2835; // 72 dpi\n",
        "    outfile.write(reinterpret_cast<char*>(&resolutionX), sizeof(int));\n",
        "    int resolutionY = 2835; // 72 dpi\n",
        "    outfile.write(reinterpret_cast<char*>(&resolutionY), sizeof(int));\n",
        "    int colors = 0;\n",
        "    outfile.write(reinterpret_cast<char*>(&colors), sizeof(int));\n",
        "    int importantColors = 0;\n",
        "    outfile.write(reinterpret_cast<char*>(&importantColors), sizeof(int));\n",
        "\n",
        "    for (int y = HEIGHT - 1; y >= 0; --y) {\n",
        "        for (int x = 0; x < WIDTH; ++x) {\n",
        "            uint8_t value = h_image[y * WIDTH + x];\n",
        "            outfile.write(reinterpret_cast<char*>(&value), sizeof(uint8_t));\n",
        "            outfile.write(reinterpret_cast<char*>(&value), sizeof(uint8_t));\n",
        "            outfile.write(reinterpret_cast<char*>(&value), sizeof(uint8_t));\n",
        "        }\n",
        "        // Écriture du padding\n",
        "        for (int p = 0; p < paddingSize; ++p) {\n",
        "            uint8_t paddingByte = 0;\n",
        "            outfile.write(reinterpret_cast<char*>(&paddingByte), sizeof(uint8_t));\n",
        "        }\n",
        "    }\n",
        "\n",
        "    outfile.close();\n",
        "    cudaFree(d_image);\n",
        "    delete[] h_image;\n",
        "    std::cout << \"Image \" << filename << \" générée avec succès.\" << std::endl;\n",
        "}\n",
        "\n",
        "int main() {\n",
        "    //generateFractal(\"fractals_cuda/mandelbrot.bmp\", M_MIN_X, M_MAX_X, M_MIN_Y, M_MAX_Y, 1000, 0, 0);\n",
        "    generateFractal(\"fractals_cuda/julia.bmp\", J_MIN_X, J_MAX_X, J_MIN_Y, J_MAX_Y, 500, 1, 0);\n",
        "    //generateFractal(\"fractals_cuda/burning_ship.bmp\", BS_MIN_X, BS_MAX_X, BS_MIN_Y, BS_MAX_Y, 1000, 2, 0);\n",
        "    //generateFractal(\"fractals_cuda/multibrot.bmp\", MB_MIN_X, MB_MAX_X, MB_MIN_Y, MB_MAX_Y, 1000, 4, MB_POWER);\n",
        "    //generateFractal(\"fractals_cuda/tricorn.bmp\", T_MIN_X, T_MAX_X, T_MIN_Y, T_MAX_Y, 1000, 5, 0);\n",
        "\n",
        "    return 0;\n",
        "}"
      ],
      "metadata": {
        "colab": {
          "base_uri": "https://localhost:8080/"
        },
        "id": "f6LNIUs8sjNr",
        "outputId": "0be7ef9b-17d5-4be1-8ad2-d9a1a4159bc7"
      },
      "execution_count": null,
      "outputs": [
        {
          "output_type": "stream",
          "name": "stdout",
          "text": [
            "Image fractals_cuda/julia.bmp générée avec succès.\n",
            "\n"
          ]
        }
      ]
    },
    {
      "cell_type": "markdown",
      "source": [
        "# Without using CUDA"
      ],
      "metadata": {
        "id": "5IEIIbpkE0oy"
      }
    },
    {
      "cell_type": "code",
      "source": [
        "%%cuda\n",
        "#include <iostream>\n",
        "#include <fstream>\n",
        "#include <cstdint>\n",
        "#include <cmath>\n",
        "#include <complex>\n",
        "#include <chrono>\n",
        "\n",
        "// Définir les dimensions de l'image pour chaque fractale\n",
        "const int WIDTH = 10000;\n",
        "const int HEIGHT = 10000;\n",
        "\n",
        "// Définir les régions des ensembles de fractales\n",
        "const double M_MIN_X = -2.0;\n",
        "const double M_MAX_X = 1.0;\n",
        "const double M_MIN_Y = -1.5;\n",
        "const double M_MAX_Y = 1.5;\n",
        "\n",
        "const double J_MIN_X = -1.5;\n",
        "const double J_MAX_X = 1.5;\n",
        "const double J_MIN_Y = -1.5;\n",
        "const double J_MAX_Y = 1.5;\n",
        "const std::complex<double> C(-0.8, 0.156); // Paramètre de Julia\n",
        "\n",
        "const double BS_MIN_X = -2.0;\n",
        "const double BS_MAX_X = 1.0;\n",
        "const double BS_MIN_Y = -2.0;\n",
        "const double BS_MAX_Y = 2.0;\n",
        "\n",
        "const double N_MIN_X = -1.0;\n",
        "const double N_MAX_X = 1.0;\n",
        "const double N_MIN_Y = -1.0;\n",
        "const double N_MAX_Y = 1.0;\n",
        "\n",
        "const double MB_MIN_X = -2.0;\n",
        "const double MB_MAX_X = 2.0;\n",
        "const double MB_MIN_Y = -2.0;\n",
        "const double MB_MAX_Y = 2.0;\n",
        "const int MB_POWER = 4; // Puissance pour le Multibrot\n",
        "\n",
        "const double T_MIN_X = -2.0;\n",
        "const double T_MAX_X = 2.0;\n",
        "const double T_MIN_Y = -2.0;\n",
        "const double T_MAX_Y = 2.0;\n",
        "\n",
        "// Fonction pour évaluer l'ensemble de Mandelbrot\n",
        "int mandelbrot(double cx, double cy, int max_iterations) {\n",
        "    double x = 0.0, y = 0.0;\n",
        "    for (int i = 0; i < max_iterations; ++i) {\n",
        "        double temp = x * x - y * y + cx;\n",
        "        y = 2.0 * x * y + cy;\n",
        "        x = temp;\n",
        "        if (x * x + y * y > 4.0) return i;\n",
        "    }\n",
        "    return max_iterations;\n",
        "}\n",
        "\n",
        "// Fonction pour évaluer l'ensemble de Julia\n",
        "int julia(double x, double y, int max_iterations) {\n",
        "    for (int i = 0; i < max_iterations; ++i) {\n",
        "        double temp = x * x - y * y + -0.8;\n",
        "        y = 2.0 * x * y + 0.156;\n",
        "        x = temp;\n",
        "        if (x * x + y * y > 4.0) return i;\n",
        "    }\n",
        "    return max_iterations;\n",
        "}\n",
        "\n",
        "// Fonction pour évaluer l'ensemble de Burning Ship\n",
        "int burningShip(double cx, double cy, int max_iterations) {\n",
        "    double x = 0.0, y = 0.0;\n",
        "    for (int i = 0; i < max_iterations; ++i) {\n",
        "        double temp = x * x - y * y + cx;\n",
        "        y = fabs(2.0 * x * y) + cy;\n",
        "        x = temp;\n",
        "        if (x * x + y * y > 4.0) return i;\n",
        "    }\n",
        "    return max_iterations;\n",
        "}\n",
        "\n",
        "// Fonction pour évaluer l'ensemble de Newton\n",
        "int newton(double x, double y, int max_iterations) {\n",
        "    for (int i = 0; i < max_iterations; ++i) {\n",
        "        double temp = x * x * x - 3.0 * x * y * y - 1.0;\n",
        "        double temp_y = 3.0 * x * x * y - y * y * y;\n",
        "        x = x - (x * temp - y * temp_y) / (3.0 * (x * x - y * y));\n",
        "        y = y - (y * temp + x * temp_y) / (3.0 * (x * x - y * y));\n",
        "        if (x * x + y * y < 1e-6) return i;\n",
        "    }\n",
        "    return max_iterations;\n",
        "}\n",
        "\n",
        "// Fonction pour évaluer l'ensemble de Multibrot\n",
        "int multibrot(double cx, double cy, int max_iterations, int power) {\n",
        "    double x = 0.0, y = 0.0;\n",
        "    for (int i = 0; i < max_iterations; ++i) {\n",
        "        double temp = pow(x * x + y * y, power / 2.0) * cos(power * atan2(y, x)) + cx;\n",
        "        y = pow(x * x + y * y, power / 2.0) * sin(power * atan2(y, x)) + cy;\n",
        "        x = temp;\n",
        "        if (x * x + y * y > 4.0) return i;\n",
        "    }\n",
        "    return max_iterations;\n",
        "}\n",
        "\n",
        "// Fonction pour évaluer l'ensemble de Tricorn\n",
        "int tricorn(double cx, double cy, int max_iterations) {\n",
        "    double x = 0.0, y = 0.0;\n",
        "    for (int i = 0; i < max_iterations; ++i) {\n",
        "        double temp = x * x - y * y + cx;\n",
        "        y = -2.0 * x * y + cy;\n",
        "        x = temp;\n",
        "        if (x * x + y * y > 4.0) return i;\n",
        "    }\n",
        "    return max_iterations;\n",
        "}\n",
        "\n",
        "// Fonction pour générer et enregistrer une image de fractale\n",
        "void generateFractal(const char* filename, double min_x, double max_x, double min_y, double max_y, int max_iterations, int fractalType, int power) {\n",
        "    uint8_t* h_image = new uint8_t[WIDTH * HEIGHT];\n",
        "\n",
        "    auto start = std::chrono::high_resolution_clock::now();\n",
        "\n",
        "    for (int y = 0; y < HEIGHT; ++y) {\n",
        "        for (int x = 0; x < WIDTH; ++x) {\n",
        "            double cx = min_x + (max_x - min_x) * x / WIDTH;\n",
        "            double cy = min_y + (max_y - min_y) * y / HEIGHT;\n",
        "            int index = y * WIDTH + x;\n",
        "            switch (fractalType) {\n",
        "                case 0:\n",
        "                    h_image[index] = mandelbrot(cx, cy, max_iterations);\n",
        "                    break;\n",
        "                case 1:\n",
        "                    h_image[index] = julia(cx, cy, max_iterations);\n",
        "                    break;\n",
        "                case 2:\n",
        "                    h_image[index] = burningShip(cx, cy, max_iterations);\n",
        "                    break;\n",
        "                case 3:\n",
        "                    h_image[index] = newton(cx, cy, max_iterations);\n",
        "                    break;\n",
        "                case 4:\n",
        "                    h_image[index] = multibrot(cx, cy, max_iterations, power);\n",
        "                    break;\n",
        "                case 5:\n",
        "                    h_image[index] = tricorn(cx, cy, max_iterations);\n",
        "                    break;\n",
        "            }\n",
        "            // Coloration unicolor avec variations d'opacité\n",
        "            double opacity = 1.0 - static_cast<double>(h_image[index]) / max_iterations;\n",
        "            uint8_t color = 255; // Couleur unie blanche\n",
        "            h_image[index] = static_cast<uint8_t>(color * opacity);\n",
        "        }\n",
        "    }\n",
        "\n",
        "    auto end = std::chrono::high_resolution_clock::now();\n",
        "    std::chrono::duration<double> elapsed_seconds = end - start;\n",
        "    std::cout << \"Temps d'exécution : \" << elapsed_seconds.count() << \" secondes.\" << std::endl;\n",
        "\n",
        "    std::ofstream outfile(filename, std::ios::binary);\n",
        "    outfile << \"BM\";\n",
        "    int fileSize = WIDTH * HEIGHT * 3 + 54;\n",
        "    outfile.write(reinterpret_cast<char*>(&fileSize), sizeof(int));\n",
        "    int reserved = 0;\n",
        "    outfile.write(reinterpret_cast<char*>(&reserved), sizeof(int));\n",
        "    int offset = 54;\n",
        "    outfile.write(reinterpret_cast<char*>(&offset), sizeof(int));\n",
        "    int headerSize = 40;\n",
        "    outfile.write(reinterpret_cast<char*>(&headerSize), sizeof(int));\n",
        "    int width = WIDTH;\n",
        "    outfile.write(reinterpret_cast<char*>(&width), sizeof(int));\n",
        "    int height = HEIGHT;\n",
        "    outfile.write(reinterpret_cast<char*>(&height), sizeof(int));\n",
        "    short planes = 1;\n",
        "    outfile.write(reinterpret_cast<char*>(&planes), sizeof(short));\n",
        "    short bpp = 24;\n",
        "    outfile.write(reinterpret_cast<char*>(&bpp), sizeof(short));\n",
        "    int compression = 0;\n",
        "    outfile.write(reinterpret_cast<char*>(&compression), sizeof(int));\n",
        "    int imgSize = WIDTH * HEIGHT * 3;\n",
        "    outfile.write(reinterpret_cast<char*>(&imgSize), sizeof(int));\n",
        "    int resolutionX = 2835;\n",
        "    outfile.write(reinterpret_cast<char*>(&resolutionX), sizeof(int));\n",
        "    int resolutionY = 2835;\n",
        "    outfile.write(reinterpret_cast<char*>(&resolutionY), sizeof(int));\n",
        "    int colors = 0;\n",
        "    outfile.write(reinterpret_cast<char*>(&colors), sizeof(int));\n",
        "    int importantColors = 0;\n",
        "    outfile.write(reinterpret_cast<char*>(&importantColors), sizeof(int));\n",
        "\n",
        "    for (int y = HEIGHT - 1; y >= 0; --y) {\n",
        "        for (int x = 0; x < WIDTH; ++x) {\n",
        "            uint8_t value = h_image[y * WIDTH + x];\n",
        "            outfile.write(reinterpret_cast<char*>(&value), sizeof(uint8_t));\n",
        "            outfile.write(reinterpret_cast<char*>(&value), sizeof(uint8_t));\n",
        "            outfile.write(reinterpret_cast<char*>(&value), sizeof(uint8_t));\n",
        "        }\n",
        "    }\n",
        "\n",
        "    outfile.close();\n",
        "    delete[] h_image;\n",
        "    std::cout << \"Image \" << filename << \" générée avec succès.\" << std::endl;\n",
        "}\n",
        "\n",
        "int main() {\n",
        "    //generateFractal(\"fractals/mandelbrot.bmp\", M_MIN_X, M_MAX_X, M_MIN_Y, M_MAX_Y, 1000, 0, 0);\n",
        "    generateFractal(\"fractals/julia.bmp\", J_MIN_X, J_MAX_X, J_MIN_Y, J_MAX_Y, 500, 1, 0);\n",
        "    //generateFractal(\"fractals/burning_ship.bmp\", BS_MIN_X, BS_MAX_X, BS_MIN_Y, BS_MAX_Y, 1000, 2, 0);\n",
        "    //generateFractal(\"fractals/multibrot.bmp\", MB_MIN_X, MB_MAX_X, MB_MIN_Y, MB_MAX_Y, 1000, 4, MB_POWER);\n",
        "    //generateFractal(\"fractals/tricorn.bmp\", T_MIN_X, T_MAX_X, T_MIN_Y, T_MAX_Y, 1000, 5, 0);\n",
        "\n",
        "    return 0;\n",
        "}\n"
      ],
      "metadata": {
        "colab": {
          "base_uri": "https://localhost:8080/"
        },
        "id": "9TwbNWs5x2El",
        "outputId": "4921797a-3d50-4022-f520-131b6a587450"
      },
      "execution_count": null,
      "outputs": [
        {
          "output_type": "stream",
          "name": "stdout",
          "text": [
            "Temps d'exécution : 23.9182 secondes.\n",
            "Image fractals/julia.bmp générée avec succès.\n",
            "\n"
          ]
        }
      ]
    }
  ]
}