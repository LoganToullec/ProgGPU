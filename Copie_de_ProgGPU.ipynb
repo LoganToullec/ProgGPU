{
  "nbformat": 4,
  "nbformat_minor": 0,
  "metadata": {
    "colab": {
      "provenance": [],
      "include_colab_link": true
    },
    "kernelspec": {
      "name": "python3",
      "display_name": "Python 3"
    },
    "language_info": {
      "name": "python"
    },
    "accelerator": "GPU",
    "gpuClass": "standard"
  },
  "cells": [
    {
      "cell_type": "markdown",
      "metadata": {
        "id": "view-in-github",
        "colab_type": "text"
      },
      "source": [
        "<a href=\"https://colab.research.google.com/github/LoganToullec/ProgGPU/blob/main/Copie_de_ProgGPU.ipynb\" target=\"_parent\"><img src=\"https://colab.research.google.com/assets/colab-badge.svg\" alt=\"Open In Colab\"/></a>"
      ]
    },
    {
      "cell_type": "markdown",
      "source": [
        "# This notebook\n",
        "This notebook is a starting point to setup for CUDA code.\n",
        "If you want to save your codes, you will have to create a copy of this notebook, and then work on this copy"
      ],
      "metadata": {
        "id": "RlYG9sS24wSW"
      }
    },
    {
      "cell_type": "code",
      "execution_count": 7,
      "metadata": {
        "colab": {
          "base_uri": "https://localhost:8080/"
        },
        "id": "Vjov-qc1v32O",
        "outputId": "b6343ff2-784a-467d-c282-f77b22a7ca3e"
      },
      "outputs": [
        {
          "output_type": "stream",
          "name": "stdout",
          "text": [
            "nvcc: NVIDIA (R) Cuda compiler driver\n",
            "Copyright (c) 2005-2023 NVIDIA Corporation\n",
            "Built on Tue_Aug_15_22:02:13_PDT_2023\n",
            "Cuda compilation tools, release 12.2, V12.2.140\n",
            "Build cuda_12.2.r12.2/compiler.33191640_0\n"
          ]
        }
      ],
      "source": [
        "!nvcc --version"
      ]
    },
    {
      "cell_type": "markdown",
      "source": [
        "# Prepare your notebook to handle CUDA code"
      ],
      "metadata": {
        "id": "8v3Gndg2w-kK"
      }
    },
    {
      "cell_type": "code",
      "source": [
        "!pip install git+https://github.com/andreinechaev/nvcc4jupyter.git\n",
        "%load_ext nvcc4jupyter"
      ],
      "metadata": {
        "colab": {
          "base_uri": "https://localhost:8080/"
        },
        "id": "gNTbL4fywF2i",
        "outputId": "cc608737-aaf5-45a3-b378-1e975870eaa5"
      },
      "execution_count": 8,
      "outputs": [
        {
          "output_type": "stream",
          "name": "stdout",
          "text": [
            "Collecting git+https://github.com/andreinechaev/nvcc4jupyter.git\n",
            "  Cloning https://github.com/andreinechaev/nvcc4jupyter.git to /tmp/pip-req-build-wr3gmehx\n",
            "  Running command git clone --filter=blob:none --quiet https://github.com/andreinechaev/nvcc4jupyter.git /tmp/pip-req-build-wr3gmehx\n",
            "  Resolved https://github.com/andreinechaev/nvcc4jupyter.git to commit 781ff5b76ba6c4c2d80dcbbec9983e147613cc71\n",
            "  Installing build dependencies ... \u001b[?25l\u001b[?25hdone\n",
            "  Getting requirements to build wheel ... \u001b[?25l\u001b[?25hdone\n",
            "  Preparing metadata (pyproject.toml) ... \u001b[?25l\u001b[?25hdone\n",
            "Building wheels for collected packages: nvcc4jupyter\n",
            "  Building wheel for nvcc4jupyter (pyproject.toml) ... \u001b[?25l\u001b[?25hdone\n",
            "  Created wheel for nvcc4jupyter: filename=nvcc4jupyter-1.1.0-py3-none-any.whl size=8011 sha256=e2b2acbb79d726227ace2ffdeb18b901e4debb9cf9419b13a35a389a655ee4ac\n",
            "  Stored in directory: /tmp/pip-ephem-wheel-cache-190ym8mf/wheels/a8/b9/18/23f8ef71ceb0f63297dd1903aedd067e6243a68ea756d6feea\n",
            "Successfully built nvcc4jupyter\n",
            "Installing collected packages: nvcc4jupyter\n",
            "Successfully installed nvcc4jupyter-1.1.0\n",
            "Source files will be saved in \"/tmp/tmpw56obh94\".\n"
          ]
        }
      ]
    },
    {
      "cell_type": "markdown",
      "source": [
        "# Install & Use of CCfits for TD 2\n"
      ],
      "metadata": {
        "id": "oekYOe5182hT"
      }
    },
    {
      "cell_type": "code",
      "source": [
        "!apt-get install libccfits-dev"
      ],
      "metadata": {
        "id": "6VkGKojyRv-V",
        "colab": {
          "base_uri": "https://localhost:8080/"
        },
        "outputId": "e3a78b31-591c-45dd-a991-b301578e5af3"
      },
      "execution_count": 9,
      "outputs": [
        {
          "output_type": "stream",
          "name": "stdout",
          "text": [
            "Reading package lists... Done\n",
            "Building dependency tree... Done\n",
            "Reading state information... Done\n",
            "The following additional packages will be installed:\n",
            "  libccfits0v5\n",
            "Suggested packages:\n",
            "  libccfits-doc\n",
            "The following NEW packages will be installed:\n",
            "  libccfits-dev libccfits0v5\n",
            "0 upgraded, 2 newly installed, 0 to remove and 38 not upgraded.\n",
            "Need to get 501 kB of archives.\n",
            "After this operation, 3,105 kB of additional disk space will be used.\n",
            "Get:1 http://archive.ubuntu.com/ubuntu jammy/universe amd64 libccfits0v5 amd64 2.6+dfsg-1 [195 kB]\n",
            "Get:2 http://archive.ubuntu.com/ubuntu jammy/universe amd64 libccfits-dev amd64 2.6+dfsg-1 [306 kB]\n",
            "Fetched 501 kB in 0s (1,280 kB/s)\n",
            "Selecting previously unselected package libccfits0v5:amd64.\n",
            "(Reading database ... 121752 files and directories currently installed.)\n",
            "Preparing to unpack .../libccfits0v5_2.6+dfsg-1_amd64.deb ...\n",
            "Unpacking libccfits0v5:amd64 (2.6+dfsg-1) ...\n",
            "Selecting previously unselected package libccfits-dev:amd64.\n",
            "Preparing to unpack .../libccfits-dev_2.6+dfsg-1_amd64.deb ...\n",
            "Unpacking libccfits-dev:amd64 (2.6+dfsg-1) ...\n",
            "Setting up libccfits0v5:amd64 (2.6+dfsg-1) ...\n",
            "Setting up libccfits-dev:amd64 (2.6+dfsg-1) ...\n",
            "Processing triggers for libc-bin (2.35-0ubuntu3.4) ...\n",
            "/sbin/ldconfig.real: /usr/local/lib/libtbb.so.12 is not a symbolic link\n",
            "\n",
            "/sbin/ldconfig.real: /usr/local/lib/libtbbmalloc_proxy.so.2 is not a symbolic link\n",
            "\n",
            "/sbin/ldconfig.real: /usr/local/lib/libtbbbind.so.3 is not a symbolic link\n",
            "\n",
            "/sbin/ldconfig.real: /usr/local/lib/libtbbmalloc.so.2 is not a symbolic link\n",
            "\n",
            "/sbin/ldconfig.real: /usr/local/lib/libtbbbind_2_5.so.3 is not a symbolic link\n",
            "\n",
            "/sbin/ldconfig.real: /usr/local/lib/libtbbbind_2_0.so.3 is not a symbolic link\n",
            "\n"
          ]
        }
      ]
    },
    {
      "cell_type": "code",
      "source": [
        "import astropy.io.fits as pf\n",
        "import numpy as np\n",
        "\n",
        "A = np.random.random((10,10))\n",
        "pf.writeto(\"test.fits\", A, overwrite=True)"
      ],
      "metadata": {
        "id": "SKuozthTSVFI"
      },
      "execution_count": 10,
      "outputs": []
    },
    {
      "cell_type": "code",
      "source": [
        "%%writefile test2.cu\n",
        "#include <stdio.h>\n",
        "#include <CCfits>\n",
        "\n",
        "int main(void) {\n",
        "    CCfits::FITS inFile(\"test.fits\", CCfits::Read, true);\n",
        "    CCfits::PHDU &phdu = inFile.pHDU();\n",
        "    std::valarray<float> fitsImage;\n",
        "    phdu.read(fitsImage);\n",
        "    std::cout << fitsImage[1] << std::endl;\n",
        "    std::cout << fitsImage.size() << std::endl;\n",
        "    long naxes[2] = {10,10};\n",
        "    CCfits::FITS *inFile2 = new CCfits::FITS(\"test2.fits\", FLOAT_IMG, 2, naxes);\n",
        "    CCfits::PHDU &phdu2 = inFile2->pHDU();\n",
        "    phdu2.write(1, 99, fitsImage);\n",
        "}\n"
      ],
      "metadata": {
        "colab": {
          "base_uri": "https://localhost:8080/"
        },
        "id": "NX1ZwMTISjdj",
        "outputId": "e5680fb9-2385-435b-e4e1-5dcdb65255c5"
      },
      "execution_count": 11,
      "outputs": [
        {
          "output_type": "stream",
          "name": "stdout",
          "text": [
            "Writing test2.cu\n"
          ]
        }
      ]
    },
    {
      "cell_type": "code",
      "source": [
        "!nvcc test2.cu -o test2 -I/usr/include/CCfits -L/usr/lib/x86_64-linux-gnu/ -std=c++11 -lCCfits -lcfitsio"
      ],
      "metadata": {
        "id": "wO4z7tNwWFjl"
      },
      "execution_count": 12,
      "outputs": []
    },
    {
      "cell_type": "code",
      "source": [
        "!./test2"
      ],
      "metadata": {
        "id": "kX60D4H0WjhB",
        "colab": {
          "base_uri": "https://localhost:8080/"
        },
        "outputId": "59698f60-5ad0-4289-f725-4471de407f62"
      },
      "execution_count": 13,
      "outputs": [
        {
          "output_type": "stream",
          "name": "stdout",
          "text": [
            "0.43347\n",
            "100\n"
          ]
        }
      ]
    },
    {
      "cell_type": "code",
      "source": [
        "import astropy.io.fits as pf\n",
        "import numpy as np\n",
        "A = pf.getdata(\"test2.fits\")\n",
        "B = pf.getdata(\"test.fits\")"
      ],
      "metadata": {
        "id": "ObtW99n-flSt"
      },
      "execution_count": 14,
      "outputs": []
    },
    {
      "cell_type": "markdown",
      "source": [
        "# You are ready to code in CUDA"
      ],
      "metadata": {
        "id": "vdZBR7NSxMLF"
      }
    },
    {
      "cell_type": "code",
      "source": [
        "%%cuda\n",
        "#include <iostream>\n",
        "#include <fstream>\n",
        "#include <cstdint>\n",
        "#include <complex>\n",
        "#include <chrono>\n",
        "\n",
        "// Define dimensions of the image for each fractal\n",
        "const int WIDTH = 10000;\n",
        "const int HEIGHT = 10000;\n",
        "\n",
        "// Define the region of the Mandelbrot set\n",
        "const double M_MIN_X = -2.0;\n",
        "const double M_MAX_X = 1.0;\n",
        "const double M_MIN_Y = -1.5;\n",
        "const double M_MAX_Y = 1.5;\n",
        "const int M_MAX_ITERATIONS = 1000;\n",
        "\n",
        "// CUDA kernel to generate fractal\n",
        "__global__ void generateFractalCUDA(uint8_t* image, double min_x, double max_x, double min_y, double max_y, int max_iterations) {\n",
        "    int x = blockIdx.x * blockDim.x + threadIdx.x;\n",
        "    int y = blockIdx.y * blockDim.y + threadIdx.y;\n",
        "\n",
        "    if (x < WIDTH && y < HEIGHT) {\n",
        "        double cx = min_x + (max_x - min_x) * x / WIDTH;\n",
        "        double cy = min_y + (max_y - min_y) * y / HEIGHT;\n",
        "        double zx = 0.0;\n",
        "        double zy = 0.0;\n",
        "        int iteration = 0;\n",
        "        while (zx * zx + zy * zy < 4.0 && iteration < max_iterations) {\n",
        "            double temp = zx * zx - zy * zy + cx;\n",
        "            zy = 2.0 * zx * zy + cy;\n",
        "            zx = temp;\n",
        "            iteration++;\n",
        "        }\n",
        "\n",
        "        // Convert iteration count to color\n",
        "        uint8_t r, g, b;\n",
        "        if (iteration == max_iterations) {\n",
        "            r = g = b = 0; // Black for points inside the set\n",
        "        } else {\n",
        "            r = static_cast<uint8_t>(iteration * 255 / max_iterations);\n",
        "            g = static_cast<uint8_t>((iteration * iteration) % 255);\n",
        "            b = static_cast<uint8_t>((iteration * iteration * iteration) % 255);\n",
        "        }\n",
        "\n",
        "        // Write color to image buffer\n",
        "        int index = (y * WIDTH + x) * 3;\n",
        "        image[index] = r;\n",
        "        image[index + 1] = g;\n",
        "        image[index + 2] = b;\n",
        "    }\n",
        "}\n",
        "\n",
        "// Function to generate and save a fractal image using CUDA\n",
        "void generateFractalWithCUDA(const char* filename, double min_x, double max_x, double min_y, double max_y, int max_iterations) {\n",
        "    uint8_t* h_image = new uint8_t[WIDTH * HEIGHT * 3]; // Host image buffer\n",
        "    uint8_t* d_image; // Device image buffer\n",
        "\n",
        "    // Allocate memory on the device\n",
        "    cudaMalloc((void**)&d_image, WIDTH * HEIGHT * 3 * sizeof(uint8_t));\n",
        "\n",
        "    // Define block and grid dimensions\n",
        "    dim3 blockSize(16, 16);\n",
        "    dim3 gridSize((WIDTH + blockSize.x - 1) / blockSize.x, (HEIGHT + blockSize.y - 1) / blockSize.y);\n",
        "\n",
        "    auto start = std::chrono::high_resolution_clock::now(); // Start time measurement\n",
        "\n",
        "    // Launch kernel to generate fractal\n",
        "    generateFractalCUDA<<<gridSize, blockSize>>>(d_image, min_x, max_x, min_y, max_y, max_iterations);\n",
        "\n",
        "    // Copy image from device to host\n",
        "    cudaMemcpy(h_image, d_image, WIDTH * HEIGHT * 3 * sizeof(uint8_t), cudaMemcpyDeviceToHost);\n",
        "\n",
        "    auto end = std::chrono::high_resolution_clock::now(); // End time measurement\n",
        "    std::chrono::duration<double> elapsed_seconds = end - start;\n",
        "    std::cout << \"Temps d'execution avec CUDA : \" << elapsed_seconds.count() << \" secondes.\" << std::endl;\n",
        "\n",
        "    // Save image to bitmap file\n",
        "    std::ofstream outfile(filename, std::ios::binary);\n",
        "    outfile << \"BM\";\n",
        "    int fileSize = WIDTH * HEIGHT * 3 + 54;\n",
        "    outfile.write(reinterpret_cast<char*>(&fileSize), sizeof(int));\n",
        "    int reserved = 0;\n",
        "    outfile.write(reinterpret_cast<char*>(&reserved), sizeof(int));\n",
        "    int offset = 54;\n",
        "    outfile.write(reinterpret_cast<char*>(&offset), sizeof(int));\n",
        "    int headerSize = 40;\n",
        "    outfile.write(reinterpret_cast<char*>(&headerSize), sizeof(int));\n",
        "    int width = WIDTH;\n",
        "    outfile.write(reinterpret_cast<char*>(&width), sizeof(int));\n",
        "    int height = HEIGHT;\n",
        "    outfile.write(reinterpret_cast<char*>(&height), sizeof(int));\n",
        "    short planes = 1;\n",
        "    outfile.write(reinterpret_cast<char*>(&planes), sizeof(short));\n",
        "    short bpp = 24;\n",
        "    outfile.write(reinterpret_cast<char*>(&bpp), sizeof(short));\n",
        "    int compression = 0;\n",
        "    outfile.write(reinterpret_cast<char*>(&compression), sizeof(int));\n",
        "    int imgSize = WIDTH * HEIGHT * 3;\n",
        "    outfile.write(reinterpret_cast<char*>(&imgSize), sizeof(int));\n",
        "    int resolutionX = 2835;\n",
        "    outfile.write(reinterpret_cast<char*>(&resolutionX), sizeof(int));\n",
        "    int resolutionY = 2835;\n",
        "    outfile.write(reinterpret_cast<char*>(&resolutionY), sizeof(int));\n",
        "    int colors = 0;\n",
        "    outfile.write(reinterpret_cast<char*>(&colors), sizeof(int));\n",
        "    int importantColors = 0;\n",
        "    outfile.write(reinterpret_cast<char*>(&importantColors), sizeof(int));\n",
        "\n",
        "    for (int y = HEIGHT - 1; y >= 0; --y) {\n",
        "        for (int x = 0; x < WIDTH; ++x) {\n",
        "            outfile.write(reinterpret_cast<char*>(&h_image[(y * WIDTH + x) * 3 + 2]), sizeof(uint8_t));\n",
        "            outfile.write(reinterpret_cast<char*>(&h_image[(y * WIDTH + x) * 3 + 1]), sizeof(uint8_t));\n",
        "            outfile.write(reinterpret_cast<char*>(&h_image[(y * WIDTH + x) * 3]), sizeof(uint8_t));\n",
        "        }\n",
        "    }\n",
        "\n",
        "    // Clean up\n",
        "    cudaFree(d_image);\n",
        "    delete[] h_image;\n",
        "\n",
        "    std::cout << \"Image \" << filename << \" générée avec succès.\" << std::endl;\n",
        "}\n",
        "\n",
        "int main() {\n",
        "    generateFractalWithCUDA(\"mandelbrot_with_cuda.bmp\", M_MIN_X, M_MAX_X, M_MIN_Y, M_MAX_Y, M_MAX_ITERATIONS);\n",
        "    // You can add more fractals here with different parameters if needed\n",
        "    return 0;\n",
        "}\n"
      ],
      "metadata": {
        "colab": {
          "base_uri": "https://localhost:8080/"
        },
        "id": "f6LNIUs8sjNr",
        "outputId": "4bcd6eb7-1e26-41c9-d95e-aa11f4ef8939"
      },
      "execution_count": 36,
      "outputs": [
        {
          "output_type": "stream",
          "name": "stdout",
          "text": [
            "Temps d'execution avec CUDA : 1.74551 secondes.\n",
            "Image mandelbrot_with_cuda.bmp générée avec succès.\n",
            "\n"
          ]
        }
      ]
    },
    {
      "cell_type": "code",
      "source": [
        "%%cuda\n",
        "#include <iostream>\n",
        "#include <fstream>\n",
        "#include <cstdint>\n",
        "#include <complex>\n",
        "\n",
        "// Définir les dimensions de l'image pour chaque fractale\n",
        "const int WIDTH = 10000;\n",
        "const int HEIGHT = 10000;\n",
        "\n",
        "// Définir la région de l'ensemble de Mandelbrot\n",
        "const double M_MIN_X = -2.0;\n",
        "const double M_MAX_X = 1.0;\n",
        "const double M_MIN_Y = -1.5;\n",
        "const double M_MAX_Y = 1.5;\n",
        "const int M_MAX_ITERATIONS = 1000;\n",
        "\n",
        "// Définir la région de l'ensemble de Julia\n",
        "const double J_MIN_X = -1.5;\n",
        "const double J_MAX_X = 1.5;\n",
        "const double J_MIN_Y = -1.5;\n",
        "const double J_MAX_Y = 1.5;\n",
        "const std::complex<double> C(-0.8, 0.156);\n",
        "const int J_MAX_ITERATIONS = 500;\n",
        "\n",
        "// Définir la région de l'ensemble de Burning Ship\n",
        "const double B_MIN_X = -2.0;\n",
        "const double B_MAX_X = 1.0;\n",
        "const double B_MIN_Y = -2.0;\n",
        "const double B_MAX_Y = 2.0;\n",
        "const int B_MAX_ITERATIONS = 1000;\n",
        "\n",
        "// Définir la région de l'ensemble de Newton\n",
        "const double N_MIN_X = -1.0;\n",
        "const double N_MAX_X = 1.0;\n",
        "const double N_MIN_Y = -1.0;\n",
        "const double N_MAX_Y = 1.0;\n",
        "const int N_MAX_ITERATIONS = 1000;\n",
        "\n",
        "// Fonction pour évaluer l'ensemble de Mandelbrot\n",
        "int mandelbrot(double cx, double cy) {\n",
        "    std::complex<double> c(cx, cy);\n",
        "    std::complex<double> z(0.0, 0.0);\n",
        "    int iteration = 0;\n",
        "    while (std::abs(z) < 2.0 && iteration < M_MAX_ITERATIONS) {\n",
        "        z = z * z + c;\n",
        "        iteration++;\n",
        "    }\n",
        "    return iteration;\n",
        "}\n",
        "\n",
        "// Fonction pour évaluer l'ensemble de Julia\n",
        "int julia(double x, double y) {\n",
        "    std::complex<double> z(x, y);\n",
        "    int iteration = 0;\n",
        "    while (std::abs(z) < 2.0 && iteration < J_MAX_ITERATIONS) {\n",
        "        z = z * z + C;\n",
        "        iteration++;\n",
        "    }\n",
        "    return iteration;\n",
        "}\n",
        "\n",
        "// Fonction pour évaluer l'ensemble de Burning Ship\n",
        "int burningShip(double cx, double cy) {\n",
        "    std::complex<double> c(cx, cy);\n",
        "    std::complex<double> z(0.0, 0.0);\n",
        "    int iteration = 0;\n",
        "    while (std::abs(z) < 2.0 && iteration < B_MAX_ITERATIONS) {\n",
        "        z = std::complex<double>(std::abs(z.real()), std::abs(z.imag())) * std::complex<double>(std::abs(z.real()), std::abs(z.imag())) + c;\n",
        "        iteration++;\n",
        "    }\n",
        "    return iteration;\n",
        "}\n",
        "\n",
        "// Fonction pour évaluer l'ensemble de Newton\n",
        "int newton(double x, double y) {\n",
        "    std::complex<double> z(x, y);\n",
        "    int iteration = 0;\n",
        "    while (std::abs(z * z * z - 1.0) > 0.001 && iteration < N_MAX_ITERATIONS) {\n",
        "        z = z - (z * z * z - 1.0) / (3.0 * z * z);\n",
        "        iteration++;\n",
        "    }\n",
        "    return iteration;\n",
        "}\n",
        "\n",
        "// Fonction pour convertir une valeur d'itération en une couleur RVB\n",
        "void iterationToColor(int iteration, int maxIterations, uint8_t& r, uint8_t& g, uint8_t& b) {\n",
        "    if (iteration == maxIterations) {\n",
        "        r = g = b = 0; // Noir pour les points à l'intérieur de l'ensemble\n",
        "    } else {\n",
        "        // Utiliser une palette de couleurs pour les points à l'extérieur de l'ensemble\n",
        "        r = static_cast<uint8_t>(iteration * 255 / maxIterations);\n",
        "        g = static_cast<uint8_t>((iteration * iteration) % 255);\n",
        "        b = static_cast<uint8_t>((iteration * iteration * iteration) % 255);\n",
        "    }\n",
        "}\n",
        "\n",
        "// Fonction pour générer et enregistrer une image de fractale\n",
        "void generateFractal(const char* filename, double min_x, double max_x, double min_y, double max_y, int max_iterations, int(*fractalFunction)(double, double)) {\n",
        "    // Créer un tableau pour stocker les pixels de l'image\n",
        "    uint8_t image[WIDTH][HEIGHT][3];\n",
        "\n",
        "    // Parcourir chaque pixel de l'image et calculer la fractale\n",
        "    for (int x = 0; x < WIDTH; x++) {\n",
        "        for (int y = 0; y < HEIGHT; y++) {\n",
        "            // Convertir les coordonnées de l'image en coordonnées du plan complexe\n",
        "            double cx = min_x + (max_x - min_x) * x / WIDTH;\n",
        "            double cy = min_y + (max_y - min_y) * y / HEIGHT;\n",
        "            // Évaluer la fractale pour ces coordonnées\n",
        "            int iteration = fractalFunction(cx, cy);\n",
        "            // Convertir la valeur d'itération en couleur RVB\n",
        "            iterationToColor(iteration, max_iterations, image[x][y][0], image[x][y][1], image[x][y][2]);\n",
        "        }\n",
        "    }\n",
        "\n",
        "    // Enregistrer l'image dans un fichier bitmap\n",
        "    std::ofstream outfile(filename, std::ios::binary);\n",
        "    outfile << \"BM\";\n",
        "    int fileSize = WIDTH * HEIGHT * 3 + 54;\n",
        "    outfile.write(reinterpret_cast<char*>(&fileSize), sizeof(int));\n",
        "    int reserved = 0;\n",
        "    outfile.write(reinterpret_cast<char*>(&reserved), sizeof(int));\n",
        "    int offset = 54;\n",
        "    outfile.write(reinterpret_cast<char*>(&offset), sizeof(int));\n",
        "    int headerSize = 40;\n",
        "    outfile.write(reinterpret_cast<char*>(&headerSize), sizeof(int));\n",
        "    int width = WIDTH;\n",
        "    outfile.write(reinterpret_cast<char*>(&width), sizeof(int));\n",
        "    int height = HEIGHT;\n",
        "    outfile.write(reinterpret_cast<char*>(&height), sizeof(int));\n",
        "    short planes = 1;\n",
        "    outfile.write(reinterpret_cast<char*>(&planes), sizeof(short));\n",
        "    short bpp = 24;\n",
        "    outfile.write(reinterpret_cast<char*>(&bpp), sizeof(short));\n",
        "    int compression = 0;\n",
        "    outfile.write(reinterpret_cast<char*>(&compression), sizeof(int));\n",
        "    int imgSize = WIDTH * HEIGHT * 3;\n",
        "    outfile.write(reinterpret_cast<char*>(&imgSize), sizeof(int));\n",
        "    int resolutionX = 2835;\n",
        "    outfile.write(reinterpret_cast<char*>(&resolutionX), sizeof(int));\n",
        "    int resolutionY = 2835;\n",
        "    outfile.write(reinterpret_cast<char*>(&resolutionY), sizeof(int));\n",
        "    int colors = 0;\n",
        "    outfile.write(reinterpret_cast<char*>(&colors), sizeof(int));\n",
        "    int importantColors = 0;\n",
        "    outfile.write(reinterpret_cast<char*>(&importantColors), sizeof(int));\n",
        "\n",
        "    for (int y = HEIGHT - 1; y >= 0; --y) {\n",
        "        for (int x = 0; x < WIDTH; ++x) {\n",
        "            outfile.write(reinterpret_cast<char*>(&image[x][y][2]), sizeof(uint8_t));\n",
        "            outfile.write(reinterpret_cast<char*>(&image[x][y][1]), sizeof(uint8_t));\n",
        "            outfile.write(reinterpret_cast<char*>(&image[x][y][0]), sizeof(uint8_t));\n",
        "        }\n",
        "    }\n",
        "\n",
        "    outfile.close();\n",
        "    std::cout << \"Image \" << filename << \" générée avec succès.\" << std::endl;\n",
        "}\n",
        "\n",
        "int main() {\n",
        "    generateFractal(\"mandelbrot.bmp\", M_MIN_X, M_MAX_X, M_MIN_Y, M_MAX_Y, M_MAX_ITERATIONS, mandelbrot);\n",
        "    //generateFractal(\"julia.bmp\", J_MIN_X, J_MAX_X, J_MIN_Y, J_MAX_Y, J_MAX_ITERATIONS, julia);\n",
        "    //generateFractal(\"burning_ship.bmp\", B_MIN_X, B_MAX_X, B_MIN_Y, B_MAX_Y, B_MAX_ITERATIONS, burningShip);\n",
        "    //generateFractal(\"newton.bmp\", N_MIN_X, N_MAX_X, N_MIN_Y, N_MAX_Y, N_MAX_ITERATIONS, newton);\n",
        "\n",
        "    return 0;\n",
        "}\n"
      ],
      "metadata": {
        "colab": {
          "base_uri": "https://localhost:8080/"
        },
        "id": "9TwbNWs5x2El",
        "outputId": "c61e49c9-4ae3-4fa5-c768-968a890a4f96"
      },
      "execution_count": 38,
      "outputs": [
        {
          "output_type": "stream",
          "name": "stdout",
          "text": [
            "\n"
          ]
        }
      ]
    }
  ]
}